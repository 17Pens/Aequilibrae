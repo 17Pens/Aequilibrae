{
 "cells": [
  {
   "cell_type": "code",
   "execution_count": 7,
   "metadata": {},
   "outputs": [],
   "source": [
    "import logging\n",
    "import time\n",
    "import re\n",
    "from pathlib import Path\n",
    "\n",
    "import requests\n",
    "from aequilibrae.parameters import Parameters\n",
    "from aequilibrae.context import get_logger\n",
    "import gc\n",
    "import importlib.util as iutil\n",
    "from aequilibrae.utils import WorkerThread\n",
    "\n",
    "import duckdb\n",
    "import geopandas as gpd\n",
    "import pandas as pd\n",
    "import subprocess\n",
    "import os\n",
    "from typing import Union"
   ]
  },
  {
   "cell_type": "code",
   "execution_count": 2,
   "metadata": {},
   "outputs": [],
   "source": [
    "def initialise_duckdb_spatial():\n",
    "    conn = duckdb.connect()\n",
    "    c = conn.cursor()\n",
    "\n",
    "    c.execute(\n",
    "        \"\"\"INSTALL spatial; \n",
    "            INSTALL httpfs;\n",
    "            INSTALL parquet;\n",
    "        \"\"\"\n",
    "    )\n",
    "    c.execute(\n",
    "        \"\"\"LOAD spatial;\n",
    "        LOAD parquet;\n",
    "        SET s3_region='us-west-2';\n",
    "        \"\"\"\n",
    "    )\n",
    "    return c"
   ]
  },
  {
   "cell_type": "code",
   "execution_count": 4,
   "metadata": {},
   "outputs": [
    {
     "data": {
      "text/html": [
       "<div>\n",
       "<style scoped>\n",
       "    .dataframe tbody tr th:only-of-type {\n",
       "        vertical-align: middle;\n",
       "    }\n",
       "\n",
       "    .dataframe tbody tr th {\n",
       "        vertical-align: top;\n",
       "    }\n",
       "\n",
       "    .dataframe thead th {\n",
       "        text-align: right;\n",
       "    }\n",
       "</style>\n",
       "<table border=\"1\" class=\"dataframe\">\n",
       "  <thead>\n",
       "    <tr style=\"text-align: right;\">\n",
       "      <th></th>\n",
       "      <th>id</th>\n",
       "      <th>geometry</th>\n",
       "      <th>bbox</th>\n",
       "      <th>subType</th>\n",
       "      <th>localityType</th>\n",
       "      <th>names</th>\n",
       "      <th>contextId</th>\n",
       "      <th>adminLevel</th>\n",
       "      <th>isoCountryCodeAlpha2</th>\n",
       "      <th>isoSubCountryCode</th>\n",
       "      <th>...</th>\n",
       "      <th>socials</th>\n",
       "      <th>emails</th>\n",
       "      <th>phones</th>\n",
       "      <th>brand</th>\n",
       "      <th>addresses</th>\n",
       "      <th>sourceTags</th>\n",
       "      <th>wikidata</th>\n",
       "      <th>surface</th>\n",
       "      <th>isSalt</th>\n",
       "      <th>isIntermittent</th>\n",
       "    </tr>\n",
       "  </thead>\n",
       "  <tbody>\n",
       "    <tr>\n",
       "      <th>1</th>\n",
       "      <td>882e7174d3fffff-13FF4449D72183C2</td>\n",
       "      <td>LINESTRING (136.87957 37.23146, 136.88032 37.2...</td>\n",
       "      <td>{'minx': 136.879572, 'maxx': 136.8833539, 'min...</td>\n",
       "      <td>road</td>\n",
       "      <td>None</td>\n",
       "      <td>None</td>\n",
       "      <td>None</td>\n",
       "      <td>NaN</td>\n",
       "      <td>None</td>\n",
       "      <td>None</td>\n",
       "      <td>...</td>\n",
       "      <td>None</td>\n",
       "      <td>None</td>\n",
       "      <td>None</td>\n",
       "      <td>None</td>\n",
       "      <td>None</td>\n",
       "      <td>None</td>\n",
       "      <td>None</td>\n",
       "      <td>None</td>\n",
       "      <td>None</td>\n",
       "      <td>None</td>\n",
       "    </tr>\n",
       "  </tbody>\n",
       "</table>\n",
       "<p>1 rows × 37 columns</p>\n",
       "</div>"
      ],
      "text/plain": [
       "                                 id  \\\n",
       "1  882e7174d3fffff-13FF4449D72183C2   \n",
       "\n",
       "                                            geometry  \\\n",
       "1  LINESTRING (136.87957 37.23146, 136.88032 37.2...   \n",
       "\n",
       "                                                bbox subType localityType  \\\n",
       "1  {'minx': 136.879572, 'maxx': 136.8833539, 'min...    road         None   \n",
       "\n",
       "  names contextId  adminLevel isoCountryCodeAlpha2 isoSubCountryCode  ...  \\\n",
       "1  None      None         NaN                 None              None  ...   \n",
       "\n",
       "  socials emails  phones brand addresses sourceTags wikidata surface  isSalt  \\\n",
       "1    None   None    None  None      None       None     None    None    None   \n",
       "\n",
       "   isIntermittent  \n",
       "1            None  \n",
       "\n",
       "[1 rows x 37 columns]"
      ]
     },
     "execution_count": 4,
     "metadata": {},
     "output_type": "execute_result"
    }
   ],
   "source": [
    "pth = r'E:\\theme=transportation\\type=segment\\part-00232-8d133ca6-6cbd-48b8-87d5-a0850a2ba489.c003.zstd.parquet'\n",
    "gdf = gpd.read_parquet(pth)\n",
    "gdf"
   ]
  },
  {
   "cell_type": "code",
   "execution_count": 20,
   "metadata": {},
   "outputs": [],
   "source": [
    "pth = r'C:\\Users\\penny\\git\\Aequilibrae\\tests\\aequilibrae\\project\\ovm\\data\\theme=transportation\\type=segment\\transportation_parquet.zstd.parquet'\n",
    "df = pd.read_parquet(pth)\n",
    "geo = gpd.GeoSeries.from_wkb(df.geometry, crs=4326)\n",
    "gpd.GeoDataFrame(df,geometry=geo).to_parquet(r'C:\\Users\\penny\\git\\Aequilibrae\\tests\\aequilibrae\\project\\ovm\\data\\theme=transportation\\type=segment\\transportation_airlie_beach.parquet')"
   ]
  },
  {
   "cell_type": "code",
   "execution_count": null,
   "metadata": {},
   "outputs": [],
   "source": []
  }
 ],
 "metadata": {
  "kernelspec": {
   "display_name": ".venv",
   "language": "python",
   "name": "python3"
  },
  "language_info": {
   "codemirror_mode": {
    "name": "ipython",
    "version": 3
   },
   "file_extension": ".py",
   "mimetype": "text/x-python",
   "name": "python",
   "nbconvert_exporter": "python",
   "pygments_lexer": "ipython3",
   "version": "3.11.6"
  }
 },
 "nbformat": 4,
 "nbformat_minor": 2
}
